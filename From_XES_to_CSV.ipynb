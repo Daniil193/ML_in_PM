{
 "cells": [
  {
   "cell_type": "markdown",
   "metadata": {},
   "source": [
    "### This implementation of transform data taken from this link:\n",
    "\n",
    "####  https://github.com/FrankBGao/read_xes"
   ]
  },
  {
   "cell_type": "markdown",
   "metadata": {},
   "source": [
    "## Importantly, this implementation is very slow for large files (more than 200 MB), because it contains python-dictionaries and many loops"
   ]
  },
  {
   "cell_type": "markdown",
   "metadata": {},
   "source": [
    "### Import library and activate moduls"
   ]
  },
  {
   "cell_type": "code",
   "execution_count": null,
   "metadata": {
    "collapsed": true
   },
   "outputs": [],
   "source": [
    "import xmltodict\n",
    "import pandas as pd\n",
    "from json import dumps, loads"
   ]
  },
  {
   "cell_type": "code",
   "execution_count": null,
   "metadata": {},
   "outputs": [],
   "source": [
    "class From_XES_to_CSV():\n",
    "    \n",
    "    def __init__(self, path_to_log):\n",
    "        self.path = path_to_log\n",
    "        self.xml_string = open(self.path, mode='r').read()\n",
    "        \n",
    "    @staticmethod\n",
    "    def get_one_event_dict(one_event, case_name,data_types):\n",
    "\n",
    "        one_event_attri = list(one_event.keys())\n",
    "\n",
    "        one_event_dict = {}\n",
    "        for i in data_types:\n",
    "            if i in one_event_attri:\n",
    "                if type(one_event[i]) == list:\n",
    "                    for j in one_event[i]:\n",
    "                        one_event_dict[j['@key']] = j['@value']\n",
    "                else:\n",
    "                    one_event_dict[one_event[i]['@key']] = one_event[i]['@value']\n",
    "        one_event_dict['case_name'] = case_name\n",
    "        return one_event_dict\n",
    "\n",
    "\n",
    "    def gain_one_trace_info(cls, one_trace, data_types):\n",
    "        # for the attributer\n",
    "        one_trace_attri = list(one_trace.keys())\n",
    "        one_trace_attri_dict = {}\n",
    "\n",
    "        for i in data_types:\n",
    "            if i in one_trace_attri:\n",
    "                if type(one_trace[i]) == list:\n",
    "                    for j in one_trace[i]:\n",
    "                        one_trace_attri_dict[j['@key']] = j['@value']\n",
    "                else:\n",
    "                    one_trace_attri_dict[one_trace[i]['@key']] = one_trace[i]['@value']\n",
    "\n",
    "        # for event seq\n",
    "        one_trace_events = []\n",
    "        if type(one_trace['event']) == dict:\n",
    "            one_trace['event'] = [one_trace['event']]\n",
    "\n",
    "        for i in one_trace['event']:\n",
    "            inter_event = cls.get_one_event_dict(i, one_trace_attri_dict['concept:name'],data_types)\n",
    "            one_trace_events.append(inter_event)\n",
    "\n",
    "        return one_trace_attri_dict,one_trace_events\n",
    "\n",
    "\n",
    "    def gain_log_info_table(cls):\n",
    "        data_types = ['string', 'int', 'date', 'float', 'boolean', 'id']\n",
    "\n",
    "        log_is = xmltodict.parse(cls.xml_string)\n",
    "        log_is = loads(dumps(log_is))\n",
    "\n",
    "        traces = log_is['log']['trace']\n",
    "\n",
    "        trace_attri = []\n",
    "        trace_event = []\n",
    "        j = 0\n",
    "        for i in traces:\n",
    "            inter = cls.gain_one_trace_info(i,data_types)\n",
    "            trace_attri.append(inter[0])\n",
    "            trace_event = trace_event + inter[1]\n",
    "            j = j +1\n",
    "\n",
    "        return pd.DataFrame(trace_attri), pd.DataFrame(trace_event)"
   ]
  },
  {
   "cell_type": "markdown",
   "metadata": {},
   "source": [
    "## Set path to log-file"
   ]
  },
  {
   "cell_type": "code",
   "execution_count": null,
   "metadata": {
    "collapsed": true
   },
   "outputs": [],
   "source": [
    "path = 'C:/Users/username/Documents/ProcessLog.xes'"
   ]
  },
  {
   "cell_type": "markdown",
   "metadata": {},
   "source": [
    "## Get data as DataFrames"
   ]
  },
  {
   "cell_type": "code",
   "execution_count": null,
   "metadata": {},
   "outputs": [],
   "source": [
    "%%time\n",
    "trace_attri,trace_event = From_XES_to_CSV(path).gain_log_info_table()"
   ]
  },
  {
   "cell_type": "markdown",
   "metadata": {},
   "source": [
    "## Save to csv-file"
   ]
  },
  {
   "cell_type": "code",
   "execution_count": null,
   "metadata": {},
   "outputs": [],
   "source": [
    "trace_attri.to_csv(\"Cases_from_log.csv\", index=False, sep=\";\")"
   ]
  },
  {
   "cell_type": "code",
   "execution_count": null,
   "metadata": {},
   "outputs": [],
   "source": [
    "trace_event.to_csv(\"Events_from_log.csv\", index=False, sep=\";\")"
   ]
  }
 ],
 "metadata": {
  "kernelspec": {
   "display_name": "Python 3",
   "language": "python",
   "name": "python3"
  },
  "language_info": {
   "codemirror_mode": {
    "name": "ipython",
    "version": 3
   },
   "file_extension": ".py",
   "mimetype": "text/x-python",
   "name": "python",
   "nbconvert_exporter": "python",
   "pygments_lexer": "ipython3",
   "version": "3.6.8"
  }
 },
 "nbformat": 4,
 "nbformat_minor": 2
}
